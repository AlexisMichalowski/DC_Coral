{
 "cells": [
  {
   "cell_type": "markdown",
   "id": "c05e0154",
   "metadata": {},
   "source": [
    "# RAMP: Predicting percentage of bleached corals from the GCBD\n",
    "\n",
    "*Emeline Bruyère, Anaëlle Cossard, Alexis Michalowski-Skarbek, Rosanne Phebe, Rémi Poulard & Marine Tognia-tonou (M2 AMI2B).*  \n",
    "\n",
    "<div>\n",
    "<table style=\"width:100%; background-color:transparent;\">\n",
    "  <tr style=\"background-color:transparent;\">\n",
    "    <td align=\"left\"; style=\"background-color:transparent; width: 30%;\">\n",
    "        <a href=\"https://www.hi-paris.fr/\">\n",
    "            <img src=\"images/logo-hi-paris-retina.png\" width=\"200px\"/>\n",
    "        </a>\n",
    "    </td>\n",
    "    <td align=\"center\"; style=\"background-color:transparent; width:70%;\">\n",
    "        <a href=\"https://dataia.eu\">\n",
    "            <img src=\"images/DATAIA-h.png\" width=\"600px\"/>\n",
    "        </a>\n",
    "    </td>\n",
    "    <td align=\"right\"; style=\"background-color:transparent; width: 30%;\">\n",
    "        <a href=\"https://coralecologylab.wixsite.com/coralecologylab\">\n",
    "            <img src=\"images/Coral_reef_Ecology_lab_logo.png\" width=\"200px\"/>\n",
    "        </a>\n",
    "    </td>\n",
    "  </tr>\n",
    " </table>\n",
    "</div>\n",
    "\n",
    "\n",
    "\n",
    "## Table of Contents\n",
    "* [Introduction](#introduction)\n",
    "* [The dataset](#dataset)\n",
    "* [Requirements](#requirements)\n",
    "* [Data exploration](#exploration)\n",
    "* [Base model](#base_model)\n",
    "* [Submitting on RAMP](#submitting)"
   ]
  },
  {
   "cell_type": "markdown",
   "id": "98384782",
   "metadata": {},
   "source": [
    "## Introduction <a class=\"anchor\" id=\"introduction\"></a>\n",
    "***... BROUILLON ...***  \n",
    "Coral reefs, the world's most diverse marine ecosystems, play a crucial role in providing resources and services benefiting millions of people. However, they have recently faced an escalation in thermal-stress events, leading to coral bleaching. The coral bleaching phenomenon results from the breakdown of the symbiotic relationship between corals and microalgae. It is caracterised by the loss of pigments and symbionts, causing corals to appear pale, bleached. Bleaching can be temporary or fatal for corals, but undoubtedly, marine heat waves pose the most significant threat to coral reefs on a global scale.\n",
    "\n",
    "The Global Coral-Bleaching Database (GCBD) compiles 34,846 coral bleaching records from 14,405 sites in 93 countries, from 1980–2020. The GCBD provides vital information on the presence or absence of coral bleaching along with site exposure, distance to land, mean turbidity, cyclone frequency, and a suite of sea-surface temperature metrics at the times of survey.\n",
    "\n",
    "The goal of this RAMP is to predict the percentage of bleached corals from environmental data, based on the data gathered in the GCBD."
   ]
  },
  {
   "cell_type": "markdown",
   "id": "f6ab16c9",
   "metadata": {},
   "source": [
    "## The dataset <a class=\"anchor\" id=\"dataset\"></a>\n",
    "The description of all the columns of the dataset is available on [A global coral-bleaching database, 1980–2020](https://doi.org/10.1038/s41597-022-01121-y).\n",
    "\n",
    "| ![dataset_structure.png](https://media.springernature.com/full/springer-static/image/art%3A10.1038%2Fs41597-022-01121-y/MediaObjects/41597_2022_1121_Fig3_HTML.png?as=webp) |\n",
    "|:--:|\n",
    "| <b>Schematic of the Global Coral Bleaching Database (GCBD) showing the relationships among the 20 tables.</b>|"
   ]
  },
  {
   "cell_type": "markdown",
   "id": "5554cc27",
   "metadata": {},
   "source": [
    "For this challenge, the data were first preprocessed and then split in order to preserve a private test set on which to evaluate the models on our servers. This leaves ***À COMPLÉTER*** observations in the public train set and ***À COMPLÉTER*** observations in the public test set. \n",
    "Observations are grouped by sites (with a Site_ID ***À VÉRIFIER*** each) and we are very cautious to keep those examples from the same site either in the train set or in the test set (both during splitting and cross-validation).\n",
    "\n",
    "Preprocessing steps before splitting the data:\n",
    "1.  ...\n",
    "2.  ...\n",
    "3.  ..."
   ]
  },
  {
   "cell_type": "markdown",
   "id": "35735d1f",
   "metadata": {},
   "source": [
    "## Requirements <a class=\"anchor\" id=\"requirements\"></a>\n",
    "### Librairies"
   ]
  },
  {
   "cell_type": "code",
   "execution_count": 317,
   "id": "ab42ee1d",
   "metadata": {},
   "outputs": [],
   "source": [
    "import pandas as pd\n",
    "import numpy as np\n",
    "import statsmodels.api as sm\n",
    "import matplotlib.pyplot as plt\n",
    "import seaborn as sns\n",
    "from sklearn.impute import SimpleImputer\n",
    "from sklearn.pipeline import Pipeline\n",
    "from sklearn.preprocessing import StandardScaler\n",
    "from sklearn.linear_model import LinearRegression\n",
    "from sklearn.metrics import mean_squared_error,mean_absolute_error, r2_score\n",
    "\n",
    "\n",
    "\n",
    "# ... À COMPLÉTER "
   ]
  },
  {
   "cell_type": "markdown",
   "id": "b2206d90",
   "metadata": {},
   "source": [
    "### Data"
   ]
  },
  {
   "cell_type": "code",
   "execution_count": 318,
   "id": "1b7f0515",
   "metadata": {},
   "outputs": [],
   "source": [
    "# !pip install rpy2\n",
    "#%load_ext rpy2.ipython\n",
    "#%R install.packages(\"RSQLite\")\n",
    "#%R library(RSQLite)\n",
    "\n",
    "#!Rscript dowloading_data.R"
   ]
  },
  {
   "cell_type": "markdown",
   "id": "1c271bb8",
   "metadata": {},
   "source": [
    "## Data Exploration <a class=\"anchor\" id=\"exploration\"></a>"
   ]
  },
  {
   "cell_type": "code",
   "execution_count": 319,
   "id": "df26c0b7",
   "metadata": {},
   "outputs": [],
   "source": [
    "# ... À COMPLÉTER "
   ]
  },
  {
   "cell_type": "markdown",
   "id": "a5b609c9",
   "metadata": {},
   "source": [
    "## Base model <a class=\"anchor\" id=\"base_model\"></a>"
   ]
  },
  {
   "cell_type": "code",
   "execution_count": 320,
   "id": "a30767b0",
   "metadata": {},
   "outputs": [
    {
     "data": {
      "text/html": [
       "<div>\n",
       "<style scoped>\n",
       "    .dataframe tbody tr th:only-of-type {\n",
       "        vertical-align: middle;\n",
       "    }\n",
       "\n",
       "    .dataframe tbody tr th {\n",
       "        vertical-align: top;\n",
       "    }\n",
       "\n",
       "    .dataframe thead th {\n",
       "        text-align: right;\n",
       "    }\n",
       "</style>\n",
       "<table border=\"1\" class=\"dataframe\">\n",
       "  <thead>\n",
       "    <tr style=\"text-align: right;\">\n",
       "      <th></th>\n",
       "      <th>Percent_Bleached</th>\n",
       "    </tr>\n",
       "  </thead>\n",
       "  <tbody>\n",
       "    <tr>\n",
       "      <th>0</th>\n",
       "      <td>4.76</td>\n",
       "    </tr>\n",
       "    <tr>\n",
       "      <th>1</th>\n",
       "      <td>21.88</td>\n",
       "    </tr>\n",
       "    <tr>\n",
       "      <th>2</th>\n",
       "      <td>19.66</td>\n",
       "    </tr>\n",
       "    <tr>\n",
       "      <th>3</th>\n",
       "      <td>28.03</td>\n",
       "    </tr>\n",
       "    <tr>\n",
       "      <th>4</th>\n",
       "      <td>2.75</td>\n",
       "    </tr>\n",
       "    <tr>\n",
       "      <th>...</th>\n",
       "      <td>...</td>\n",
       "    </tr>\n",
       "    <tr>\n",
       "      <th>4016</th>\n",
       "      <td>0.00</td>\n",
       "    </tr>\n",
       "    <tr>\n",
       "      <th>4017</th>\n",
       "      <td>0.00</td>\n",
       "    </tr>\n",
       "    <tr>\n",
       "      <th>4018</th>\n",
       "      <td>0.00</td>\n",
       "    </tr>\n",
       "    <tr>\n",
       "      <th>4019</th>\n",
       "      <td>0.00</td>\n",
       "    </tr>\n",
       "    <tr>\n",
       "      <th>4020</th>\n",
       "      <td>0.00</td>\n",
       "    </tr>\n",
       "  </tbody>\n",
       "</table>\n",
       "<p>4021 rows × 1 columns</p>\n",
       "</div>"
      ],
      "text/plain": [
       "      Percent_Bleached\n",
       "0                 4.76\n",
       "1                21.88\n",
       "2                19.66\n",
       "3                28.03\n",
       "4                 2.75\n",
       "...                ...\n",
       "4016              0.00\n",
       "4017              0.00\n",
       "4018              0.00\n",
       "4019              0.00\n",
       "4020              0.00\n",
       "\n",
       "[4021 rows x 1 columns]"
      ]
     },
     "execution_count": 320,
     "metadata": {},
     "output_type": "execute_result"
    }
   ],
   "source": [
    "# We only keep The percent bleached data\n",
    "train_df = pd.read_csv('./data/train.csv',sep=\";\")\n",
    "train_df = train_df.iloc[:, 2:]\n",
    "\n",
    "X_train_df = train_df.loc[:, ['Percent_Bleached']]\n",
    "X_train_df\n",
    "\n"
   ]
  },
  {
   "cell_type": "code",
   "execution_count": 321,
   "id": "89d63d7f",
   "metadata": {},
   "outputs": [
    {
     "data": {
      "text/html": [
       "<div>\n",
       "<style scoped>\n",
       "    .dataframe tbody tr th:only-of-type {\n",
       "        vertical-align: middle;\n",
       "    }\n",
       "\n",
       "    .dataframe tbody tr th {\n",
       "        vertical-align: top;\n",
       "    }\n",
       "\n",
       "    .dataframe thead th {\n",
       "        text-align: right;\n",
       "    }\n",
       "</style>\n",
       "<table border=\"1\" class=\"dataframe\">\n",
       "  <thead>\n",
       "    <tr style=\"text-align: right;\">\n",
       "      <th></th>\n",
       "      <th>Percent_Bleached</th>\n",
       "    </tr>\n",
       "  </thead>\n",
       "  <tbody>\n",
       "    <tr>\n",
       "      <th>0</th>\n",
       "      <td>35.48</td>\n",
       "    </tr>\n",
       "    <tr>\n",
       "      <th>1</th>\n",
       "      <td>15.24</td>\n",
       "    </tr>\n",
       "    <tr>\n",
       "      <th>2</th>\n",
       "      <td>1.15</td>\n",
       "    </tr>\n",
       "    <tr>\n",
       "      <th>3</th>\n",
       "      <td>0.00</td>\n",
       "    </tr>\n",
       "    <tr>\n",
       "      <th>4</th>\n",
       "      <td>19.14</td>\n",
       "    </tr>\n",
       "    <tr>\n",
       "      <th>...</th>\n",
       "      <td>...</td>\n",
       "    </tr>\n",
       "    <tr>\n",
       "      <th>3486</th>\n",
       "      <td>0.00</td>\n",
       "    </tr>\n",
       "    <tr>\n",
       "      <th>3487</th>\n",
       "      <td>0.00</td>\n",
       "    </tr>\n",
       "    <tr>\n",
       "      <th>3488</th>\n",
       "      <td>0.00</td>\n",
       "    </tr>\n",
       "    <tr>\n",
       "      <th>3489</th>\n",
       "      <td>0.00</td>\n",
       "    </tr>\n",
       "    <tr>\n",
       "      <th>3490</th>\n",
       "      <td>0.00</td>\n",
       "    </tr>\n",
       "  </tbody>\n",
       "</table>\n",
       "<p>3491 rows × 1 columns</p>\n",
       "</div>"
      ],
      "text/plain": [
       "      Percent_Bleached\n",
       "0                35.48\n",
       "1                15.24\n",
       "2                 1.15\n",
       "3                 0.00\n",
       "4                19.14\n",
       "...                ...\n",
       "3486              0.00\n",
       "3487              0.00\n",
       "3488              0.00\n",
       "3489              0.00\n",
       "3490              0.00\n",
       "\n",
       "[3491 rows x 1 columns]"
      ]
     },
     "execution_count": 321,
     "metadata": {},
     "output_type": "execute_result"
    }
   ],
   "source": [
    "# We only keep The percent bleached data\n",
    "test_df = pd.read_csv('./data/test.csv',sep=\";\")\n",
    "test_df = test_df.iloc[:, 2:]\n",
    "\n",
    "X_test_df = test_df.loc[:, ['Percent_Bleached']]\n",
    "X_test_df"
   ]
  },
  {
   "cell_type": "code",
   "execution_count": 322,
   "id": "0d47762b",
   "metadata": {},
   "outputs": [
    {
     "data": {
      "text/plain": [
       "array([[35.48],\n",
       "       [15.24],\n",
       "       [ 1.15],\n",
       "       ...,\n",
       "       [ 0.  ],\n",
       "       [ 0.  ],\n",
       "       [ 0.  ]])"
      ]
     },
     "execution_count": 322,
     "metadata": {},
     "output_type": "execute_result"
    }
   ],
   "source": [
    "X_train = X_train_df.to_numpy()\n",
    "X_train\n",
    "\n",
    "X_test = X_test_df.to_numpy()\n",
    "X_test\n",
    "\n",
    "#No Nan in the dataset"
   ]
  },
  {
   "cell_type": "code",
   "execution_count": 323,
   "id": "775771c7",
   "metadata": {},
   "outputs": [
    {
     "data": {
      "text/plain": [
       "(0        4.76\n",
       " 1       21.88\n",
       " 2       19.66\n",
       " 3       28.03\n",
       " 4        2.75\n",
       "         ...  \n",
       " 4016     0.00\n",
       " 4017     0.00\n",
       " 4018     0.00\n",
       " 4019     0.00\n",
       " 4020     0.00\n",
       " Name: Percent_Bleached, Length: 4021, dtype: float64,\n",
       " (4021,))"
      ]
     },
     "execution_count": 323,
     "metadata": {},
     "output_type": "execute_result"
    }
   ],
   "source": [
    "y_train = train_df[\"Percent_Bleached\"].astype('float64')\n",
    "y_train, y_train.shape"
   ]
  },
  {
   "cell_type": "code",
   "execution_count": 324,
   "id": "6e003f03",
   "metadata": {},
   "outputs": [
    {
     "data": {
      "text/plain": [
       "(0       35.48\n",
       " 1       15.24\n",
       " 2        1.15\n",
       " 3        0.00\n",
       " 4       19.14\n",
       "         ...  \n",
       " 3486     0.00\n",
       " 3487     0.00\n",
       " 3488     0.00\n",
       " 3489     0.00\n",
       " 3490     0.00\n",
       " Name: Percent_Bleached, Length: 3491, dtype: float64,\n",
       " (3491,))"
      ]
     },
     "execution_count": 324,
     "metadata": {},
     "output_type": "execute_result"
    }
   ],
   "source": [
    "y_test = test_df[\"Percent_Bleached\"].astype('float64')\n",
    "y_test, y_test.shape"
   ]
  },
  {
   "cell_type": "code",
   "execution_count": 325,
   "id": "ce0263db",
   "metadata": {},
   "outputs": [],
   "source": [
    "numeric_transformer = Pipeline(\n",
    "    steps=[(\"imputer\", SimpleImputer(strategy=\"median\")), (\"scaler\", StandardScaler())]\n",
    ")"
   ]
  },
  {
   "cell_type": "code",
   "execution_count": 326,
   "id": "65e6d527",
   "metadata": {},
   "outputs": [],
   "source": [
    "regressor = Pipeline(\n",
    "    steps=[\n",
    "        (\"transformer\", numeric_transformer),\n",
    "        (\"regressor\", LinearRegression())\n",
    "    ]\n",
    ")"
   ]
  },
  {
   "cell_type": "code",
   "execution_count": 327,
   "id": "713bbcc7",
   "metadata": {},
   "outputs": [
    {
     "data": {
      "text/html": [
       "<style>#sk-container-id-15 {color: black;}#sk-container-id-15 pre{padding: 0;}#sk-container-id-15 div.sk-toggleable {background-color: white;}#sk-container-id-15 label.sk-toggleable__label {cursor: pointer;display: block;width: 100%;margin-bottom: 0;padding: 0.3em;box-sizing: border-box;text-align: center;}#sk-container-id-15 label.sk-toggleable__label-arrow:before {content: \"▸\";float: left;margin-right: 0.25em;color: #696969;}#sk-container-id-15 label.sk-toggleable__label-arrow:hover:before {color: black;}#sk-container-id-15 div.sk-estimator:hover label.sk-toggleable__label-arrow:before {color: black;}#sk-container-id-15 div.sk-toggleable__content {max-height: 0;max-width: 0;overflow: hidden;text-align: left;background-color: #f0f8ff;}#sk-container-id-15 div.sk-toggleable__content pre {margin: 0.2em;color: black;border-radius: 0.25em;background-color: #f0f8ff;}#sk-container-id-15 input.sk-toggleable__control:checked~div.sk-toggleable__content {max-height: 200px;max-width: 100%;overflow: auto;}#sk-container-id-15 input.sk-toggleable__control:checked~label.sk-toggleable__label-arrow:before {content: \"▾\";}#sk-container-id-15 div.sk-estimator input.sk-toggleable__control:checked~label.sk-toggleable__label {background-color: #d4ebff;}#sk-container-id-15 div.sk-label input.sk-toggleable__control:checked~label.sk-toggleable__label {background-color: #d4ebff;}#sk-container-id-15 input.sk-hidden--visually {border: 0;clip: rect(1px 1px 1px 1px);clip: rect(1px, 1px, 1px, 1px);height: 1px;margin: -1px;overflow: hidden;padding: 0;position: absolute;width: 1px;}#sk-container-id-15 div.sk-estimator {font-family: monospace;background-color: #f0f8ff;border: 1px dotted black;border-radius: 0.25em;box-sizing: border-box;margin-bottom: 0.5em;}#sk-container-id-15 div.sk-estimator:hover {background-color: #d4ebff;}#sk-container-id-15 div.sk-parallel-item::after {content: \"\";width: 100%;border-bottom: 1px solid gray;flex-grow: 1;}#sk-container-id-15 div.sk-label:hover label.sk-toggleable__label {background-color: #d4ebff;}#sk-container-id-15 div.sk-serial::before {content: \"\";position: absolute;border-left: 1px solid gray;box-sizing: border-box;top: 0;bottom: 0;left: 50%;z-index: 0;}#sk-container-id-15 div.sk-serial {display: flex;flex-direction: column;align-items: center;background-color: white;padding-right: 0.2em;padding-left: 0.2em;position: relative;}#sk-container-id-15 div.sk-item {position: relative;z-index: 1;}#sk-container-id-15 div.sk-parallel {display: flex;align-items: stretch;justify-content: center;background-color: white;position: relative;}#sk-container-id-15 div.sk-item::before, #sk-container-id-15 div.sk-parallel-item::before {content: \"\";position: absolute;border-left: 1px solid gray;box-sizing: border-box;top: 0;bottom: 0;left: 50%;z-index: -1;}#sk-container-id-15 div.sk-parallel-item {display: flex;flex-direction: column;z-index: 1;position: relative;background-color: white;}#sk-container-id-15 div.sk-parallel-item:first-child::after {align-self: flex-end;width: 50%;}#sk-container-id-15 div.sk-parallel-item:last-child::after {align-self: flex-start;width: 50%;}#sk-container-id-15 div.sk-parallel-item:only-child::after {width: 0;}#sk-container-id-15 div.sk-dashed-wrapped {border: 1px dashed gray;margin: 0 0.4em 0.5em 0.4em;box-sizing: border-box;padding-bottom: 0.4em;background-color: white;}#sk-container-id-15 div.sk-label label {font-family: monospace;font-weight: bold;display: inline-block;line-height: 1.2em;}#sk-container-id-15 div.sk-label-container {text-align: center;}#sk-container-id-15 div.sk-container {/* jupyter's `normalize.less` sets `[hidden] { display: none; }` but bootstrap.min.css set `[hidden] { display: none !important; }` so we also need the `!important` here to be able to override the default hidden behavior on the sphinx rendered scikit-learn.org. See: https://github.com/scikit-learn/scikit-learn/issues/21755 */display: inline-block !important;position: relative;}#sk-container-id-15 div.sk-text-repr-fallback {display: none;}</style><div id=\"sk-container-id-15\" class=\"sk-top-container\"><div class=\"sk-text-repr-fallback\"><pre>Pipeline(steps=[(&#x27;transformer&#x27;,\n",
       "                 Pipeline(steps=[(&#x27;imputer&#x27;, SimpleImputer(strategy=&#x27;median&#x27;)),\n",
       "                                 (&#x27;scaler&#x27;, StandardScaler())])),\n",
       "                (&#x27;regressor&#x27;, LinearRegression())])</pre><b>In a Jupyter environment, please rerun this cell to show the HTML representation or trust the notebook. <br />On GitHub, the HTML representation is unable to render, please try loading this page with nbviewer.org.</b></div><div class=\"sk-container\" hidden><div class=\"sk-item sk-dashed-wrapped\"><div class=\"sk-label-container\"><div class=\"sk-label sk-toggleable\"><input class=\"sk-toggleable__control sk-hidden--visually\" id=\"sk-estimator-id-71\" type=\"checkbox\" ><label for=\"sk-estimator-id-71\" class=\"sk-toggleable__label sk-toggleable__label-arrow\">Pipeline</label><div class=\"sk-toggleable__content\"><pre>Pipeline(steps=[(&#x27;transformer&#x27;,\n",
       "                 Pipeline(steps=[(&#x27;imputer&#x27;, SimpleImputer(strategy=&#x27;median&#x27;)),\n",
       "                                 (&#x27;scaler&#x27;, StandardScaler())])),\n",
       "                (&#x27;regressor&#x27;, LinearRegression())])</pre></div></div></div><div class=\"sk-serial\"><div class=\"sk-item\"><div class=\"sk-label-container\"><div class=\"sk-label sk-toggleable\"><input class=\"sk-toggleable__control sk-hidden--visually\" id=\"sk-estimator-id-72\" type=\"checkbox\" ><label for=\"sk-estimator-id-72\" class=\"sk-toggleable__label sk-toggleable__label-arrow\">transformer: Pipeline</label><div class=\"sk-toggleable__content\"><pre>Pipeline(steps=[(&#x27;imputer&#x27;, SimpleImputer(strategy=&#x27;median&#x27;)),\n",
       "                (&#x27;scaler&#x27;, StandardScaler())])</pre></div></div></div><div class=\"sk-serial\"><div class=\"sk-item\"><div class=\"sk-estimator sk-toggleable\"><input class=\"sk-toggleable__control sk-hidden--visually\" id=\"sk-estimator-id-73\" type=\"checkbox\" ><label for=\"sk-estimator-id-73\" class=\"sk-toggleable__label sk-toggleable__label-arrow\">SimpleImputer</label><div class=\"sk-toggleable__content\"><pre>SimpleImputer(strategy=&#x27;median&#x27;)</pre></div></div></div><div class=\"sk-item\"><div class=\"sk-estimator sk-toggleable\"><input class=\"sk-toggleable__control sk-hidden--visually\" id=\"sk-estimator-id-74\" type=\"checkbox\" ><label for=\"sk-estimator-id-74\" class=\"sk-toggleable__label sk-toggleable__label-arrow\">StandardScaler</label><div class=\"sk-toggleable__content\"><pre>StandardScaler()</pre></div></div></div></div></div><div class=\"sk-item\"><div class=\"sk-estimator sk-toggleable\"><input class=\"sk-toggleable__control sk-hidden--visually\" id=\"sk-estimator-id-75\" type=\"checkbox\" ><label for=\"sk-estimator-id-75\" class=\"sk-toggleable__label sk-toggleable__label-arrow\">LinearRegression</label><div class=\"sk-toggleable__content\"><pre>LinearRegression()</pre></div></div></div></div></div></div></div>"
      ],
      "text/plain": [
       "Pipeline(steps=[('transformer',\n",
       "                 Pipeline(steps=[('imputer', SimpleImputer(strategy='median')),\n",
       "                                 ('scaler', StandardScaler())])),\n",
       "                ('regressor', LinearRegression())])"
      ]
     },
     "execution_count": 327,
     "metadata": {},
     "output_type": "execute_result"
    }
   ],
   "source": [
    "regressor.fit(X_train, y_train)\n",
    "regressor"
   ]
  },
  {
   "cell_type": "code",
   "execution_count": 328,
   "id": "ae201409",
   "metadata": {},
   "outputs": [
    {
     "data": {
      "text/plain": [
       "(3491,)"
      ]
     },
     "execution_count": 328,
     "metadata": {},
     "output_type": "execute_result"
    }
   ],
   "source": [
    "y_pred = regressor.predict(X_test)\n",
    "y_pred.shape"
   ]
  },
  {
   "cell_type": "markdown",
   "id": "1cf2bc81",
   "metadata": {},
   "source": [
    "MSE : A metric that tells us the average squared difference between the predicted values and the actual values in a dataset. The lower the MSE, the better a model fits a dataset."
   ]
  },
  {
   "cell_type": "code",
   "execution_count": 329,
   "id": "0fe91d08",
   "metadata": {},
   "outputs": [
    {
     "name": "stdout",
     "output_type": "stream",
     "text": [
      "Mean Squared Error (MSE): 6.894327357517523e-27\n",
      "Mean Absolute Error (MAE): 6.371223609800766e-14\n",
      "R-squared (R2): 1.0\n",
      "Normalized Mean Squared Error (NMSE): 1.0136823048958193e-29\n"
     ]
    }
   ],
   "source": [
    "mse = mean_squared_error(y_test, y_pred)\n",
    "mae = mean_absolute_error(y_test, y_pred)\n",
    "r2 = r2_score(y_test, y_pred)\n",
    "variance = np.var(y_test)\n",
    "nmse = mse / variance if variance != 0 else np.nan  # Avoid division by zero\n",
    "\n",
    "\n",
    "print(f'Mean Squared Error (MSE): {mse}')\n",
    "print(f'Mean Absolute Error (MAE): {mae}')\n",
    "print(f'R-squared (R2): {r2}')\n",
    "print(f'Normalized Mean Squared Error (NMSE): {nmse}')"
   ]
  },
  {
   "cell_type": "code",
   "execution_count": 330,
   "metadata": {},
   "outputs": [
    {
     "data": {
      "image/png": "[encoded data removed]",
      "text/plain": [
       "<Figure size 640x480 with 1 Axes>"
      ]
     },
     "metadata": {},
     "output_type": "display_data"
    }
   ],
   "source": [
    "residuals = y_test - y_pred\n",
    "sm.qqplot(residuals, line='s')\n",
    "plt.title('Q-Q Plot of Residuals')\n",
    "plt.show()"
   ]
  },
  {
   "cell_type": "code",
   "execution_count": 331,
   "id": "6d5f0221",
   "metadata": {},
   "outputs": [
    {
     "data": {
      "image/png": "[encoded data removed]",
      "text/plain": [
       "<Figure size 1000x600 with 1 Axes>"
      ]
     },
     "metadata": {},
     "output_type": "display_data"
    }
   ],
   "source": [
    "plt.figure(figsize=(10, 6))\n",
    "sns.scatterplot(x=y_pred, y=residuals)\n",
    "plt.title('Predicted vs Residuals Plot')\n",
    "plt.xlabel('Predicted Values')\n",
    "plt.ylabel('Residuals')\n",
    "plt.show()"
   ]
  },
  {
   "cell_type": "markdown",
   "id": "2d7f5dff",
   "metadata": {},
   "source": [
    "The Root Mean Squared error will be used as the leaderboard score. The lower the RMSE, the better a model fits a dataset."
   ]
  },
  {
   "cell_type": "code",
   "execution_count": 332,
   "id": "7623fc21",
   "metadata": {},
   "outputs": [
    {
     "data": {
      "text/plain": [
       "8.303208631316886e-14"
      ]
     },
     "execution_count": 332,
     "metadata": {},
     "output_type": "execute_result"
    }
   ],
   "source": [
    "rmse = mean_squared_error(y_test, y_pred, squared=False) \n",
    "rmse"
   ]
  },
  {
   "cell_type": "markdown",
   "id": "9f71aada",
   "metadata": {},
   "source": [
    "This is the RMSE to beat in this challenge ! Good luck !"
   ]
  },
  {
   "cell_type": "markdown",
   "id": "2c4661b2",
   "metadata": {},
   "source": [
    "## Submitting to the online challenge: [ramp.studio](https://ramp.studio) <a class=\"anchor\" id=\"submitting\"></a>\n",
    "\n",
    "Once you found a good model, you can submit them to [ramp.studio](https://www.ramp.studio) to enter the online challenge. If it is your first time using the RAMP platform, [sign up](https://www.ramp.studio/sign_up), otherwise [log in](https://www.ramp.studio/login). Then sign up to the event ***À MODIFIER*** [Coral bleaching](http://www.ramp.studio/events/tephra_datacamp2023). Both signups are controled by RAMP administrators, so there **can be a delay between asking for signup and being able to submit**.\n",
    "\n",
    "Once your signup request is accepted, you can go to your [sandbox](https://www.ramp.studio/events/tephra_datacamp2023/sandbox) and copy-paste. You can also create a new folder `my_submission` in the `submissions` folder containing `classifier.py` and upload this file directly. You can check the starting-kit ([`classifier.py`](/edit/submissions/starting_kit/classifier.py)) for an example. The submission is trained and tested on our backend in the similar way as `ramp-test` does it locally. While your submission is waiting in the queue and being trained, you can find it in the \"New submissions (pending training)\" table in [my submissions](https://www.ramp.studio/events/tephra_datacamp2023/my_submissions). Once it is trained, your submission shows up on the [public leaderboard](https://www.ramp.studio/events/tephra_datacamp2023/leaderboard). \n",
    "If there is an error (despite having tested your submission locally with `ramp-test`), it will show up in the \"Failed submissions\" table in [my submissions](https://www.ramp.studio/events/tephra_datacamp2023/my_submissions). You can click on the error to see part of the trace.\n",
    "\n",
    "The data set we use at the backend is usually different from what you find in the starting kit, so the score may be different.\n",
    "\n",
    "The usual way to work with RAMP is to explore solutions, add feature transformations, select models, etc., _locally_, and checking them with `ramp-test`. The script prints mean cross-validation scores.\n",
    "\n",
    "The official score in this RAMP (the first score column on the [leaderboard](http://www.ramp.studio/events/tephra_datacamp2023/leaderboard) ***À METTRE À JOUR***) is the balenced accuracy score (`bal_acc`). When the score is good enough, you can submit it at the RAMP."
   ]
  },
  {
   "cell_type": "markdown",
   "id": "be405cd9",
   "metadata": {},
   "source": [
    "Here is the script proposed as the starting_kit:"
   ]
  },
  {
   "cell_type": "code",
   "execution_count": 333,
   "id": "5c8c1924",
   "metadata": {},
   "outputs": [],
   "source": [
    "from sklearn.base import BaseEstimator\n",
    "from sklearn.pipeline import make_pipeline, Pipeline\n",
    "from sklearn.impute import SimpleImputer\n",
    "from sklearn.preprocessing import StandardScaler\n",
    "from sklearn.linear_model import LinearRegression  \n",
    "\n",
    "\n",
    "class Regressor(BaseEstimator):\n",
    "    def __init__(self):\n",
    "        self.transformer = Pipeline(\n",
    "            steps=[\n",
    "                (\"imputer\", SimpleImputer(strategy=\"median\")),\n",
    "                (\"scaler\", StandardScaler()),\n",
    "            ]\n",
    "        )\n",
    "        self.model = LinearRegression()  \n",
    "        self.pipe = make_pipeline(self.transformer, self.model)\n",
    "\n",
    "    def fit(self, X, y):\n",
    "        self.pipe.fit(X, y)\n",
    "\n",
    "    def predict(self, X):\n",
    "        return self.pipe.predict(X)"
   ]
  },
  {
   "cell_type": "markdown",
   "id": "26996cd7",
   "metadata": {},
   "source": [
    "You can test your solution locally by running the ramp-test command followed by --submission <my_submission folder>.\n",
    "Here is an example with the starting_kit submission:"
   ]
  },
  {
   "cell_type": "code",
   "execution_count": 334,
   "id": "684bdd7a",
   "metadata": {},
   "outputs": [
    {
     "name": "stdout",
     "output_type": "stream",
     "text": [
      "Traceback (most recent call last):\n",
      "  File \"/home/rosanne/.local/bin/ramp-test\", line 8, in <module>\n",
      "    sys.exit(start())\n",
      "             ^^^^^^^\n",
      "  File \"/home/rosanne/.local/lib/python3.11/site-packages/rampwf/utils/cli/testing.py\", line 117, in start\n",
      "    main()\n",
      "  File \"/home/rosanne/.local/lib/python3.11/site-packages/click/core.py\", line 1157, in __call__\n",
      "    return self.main(*args, **kwargs)\n",
      "           ^^^^^^^^^^^^^^^^^^^^^^^^^^\n",
      "  File \"/home/rosanne/.local/lib/python3.11/site-packages/click/core.py\", line 1078, in main\n",
      "    rv = self.invoke(ctx)\n",
      "         ^^^^^^^^^^^^^^^^\n",
      "  File \"/home/rosanne/.local/lib/python3.11/site-packages/click/core.py\", line 1434, in invoke\n",
      "    return ctx.invoke(self.callback, **ctx.params)\n",
      "           ^^^^^^^^^^^^^^^^^^^^^^^^^^^^^^^^^^^^^^^\n",
      "  File \"/home/rosanne/.local/lib/python3.11/site-packages/click/core.py\", line 783, in invoke\n",
      "    return __callback(*args, **kwargs)\n",
      "           ^^^^^^^^^^^^^^^^^^^^^^^^^^^\n",
      "  File \"/home/rosanne/.local/lib/python3.11/site-packages/rampwf/utils/cli/testing.py\", line 102, in main\n",
      "    assert_submission(ramp_kit_dir=ramp_kit_dir,\n",
      "  File \"/home/rosanne/.local/lib/python3.11/site-packages/rampwf/utils/testing.py\", line 103, in assert_submission\n",
      "    problem = assert_read_problem(ramp_kit_dir)\n",
      "              ^^^^^^^^^^^^^^^^^^^^^^^^^^^^^^^^^\n",
      "  File \"/home/rosanne/.local/lib/python3.11/site-packages/rampwf/utils/testing.py\", line 33, in assert_read_problem\n",
      "    return import_module_from_source(\n",
      "           ^^^^^^^^^^^^^^^^^^^^^^^^^^\n",
      "  File \"/home/rosanne/.local/lib/python3.11/site-packages/rampwf/utils/importing.py\", line 36, in import_module_from_source\n",
      "    spec.loader.exec_module(module)\n",
      "  File \"<frozen importlib._bootstrap_external>\", line 940, in exec_module\n",
      "  File \"<frozen importlib._bootstrap>\", line 241, in _call_with_frames_removed\n",
      "  File \"/home/rosanne/DATA_Challenge/DC_Coral/./problem.py\", line 19, in <module>\n",
      "    workflow = rw.workflows.regressor()\n",
      "               ^^^^^^^^^^^^^^^^^^^^^^^^\n",
      "TypeError: 'module' object is not callable\n"
     ]
    }
   ],
   "source": [
    "!ramp-test --submission starting_kit"
   ]
  },
  {
   "cell_type": "markdown",
   "id": "7a75faee",
   "metadata": {},
   "source": [
    "## More information\n",
    "\n",
    "See the [online documentation](https://paris-saclay-cds.github.io/ramp-docs/ramp-workflow/stable/using_kits.html) for more details."
   ]
  },
  {
   "cell_type": "markdown",
   "id": "8de51b2c",
   "metadata": {},
   "source": [
    "## Questions\n",
    "\n",
    "Questions related to the starting kit should be asked on the [issue tracker](https://github.com/ramp-kits/tephra/issues)."
   ]
  }
 ],
 "metadata": {
  "kernelspec": {
   "display_name": "Python 3 (ipykernel)",
   "language": "python",
   "name": "python3"
  },
  "language_info": {
   "codemirror_mode": {
    "name": "ipython",
    "version": 3
   },
   "file_extension": ".py",
   "mimetype": "text/x-python",
   "name": "python",
   "nbconvert_exporter": "python",
   "pygments_lexer": "ipython3",
   "version": "3.11.4"
  }
 },
 "nbformat": 4,
 "nbformat_minor": 5
}
