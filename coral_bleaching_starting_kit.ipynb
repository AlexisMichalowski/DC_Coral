{
 "cells": [
  {
   "cell_type": "markdown",
   "id": "c05e0154",
   "metadata": {},
   "source": [
    "# RAMP: Predicting percentage of bleached corals from the GCBD\n",
    "\n",
    "*Emeline Bruyère, Anaëlle Cossard, Alexis Michalowski-Skarbek, Rosanne Phebe, Rémi Poulard & Marine Tognia-tonou (M2 AMI2B).*  \n",
    "\n",
    "<div>\n",
    "<table style=\"width:100%; background-color:transparent;\">\n",
    "  <tr style=\"background-color:transparent;\">\n",
    "    <td align=\"left\"; style=\"background-color:transparent; width: 40%;\">\n",
    "        <a href=\"https://www.hi-paris.fr/\">\n",
    "            <img src=\"https://github.com/x-datascience-datacamp/datacamp-master/raw/main/images/logo-hi-paris-retina.png\" width=\"200px\"/>\n",
    "        </a>\n",
    "    </td>\n",
    "    <td align=\"center\"; style=\"background-color:transparent; width:60%;\">\n",
    "        <a href=\"https://dataia.eu\">\n",
    "            <img src=\"https://github.com/ramp-kits/tephra/raw/main/img/DATAIA-h.png\" width=\"600px\"/>\n",
    "        </a>\n",
    "    </td>\n",
    "    <td align=\"right\"; style=\"background-color:transparent; width: 40%;\">\n",
    "        <a href=\"https://coralecologylab.wixsite.com/coralecologylab\">\n",
    "            <img src=\"https://static.wixstatic.com/media/bc7c58_d314690735724ddea8c5c8898bc5a4e3~mv2.png/v1/fill/w_201,h_201,al_c,q_85,usm_0.66_1.00_0.01,enc_auto/Beige%20Classic%20Circular%20Fashion%20Fashion%20Logo%20(1)_edited.png\" width=\"200px\"/>\n",
    "        </a>\n",
    "    </td>\n",
    "  </tr>\n",
    " </table>\n",
    "</div>\n",
    "\n",
    "\n",
    "\n",
    "## Table of Contents\n",
    "* [Introduction](#introduction)\n",
    "* [The dataset](#dataset)\n",
    "* [Requirements](#requirements)\n",
    "* [Data exploration](#exploration)\n",
    "* [Base model](#base_model)\n",
    "* [Submitting on RAMP](#submitting)"
   ]
  },
  {
   "cell_type": "markdown",
   "id": "98384782",
   "metadata": {},
   "source": [
    "## Introduction <a class=\"anchor\" id=\"introduction\"></a>\n",
    "***... BROUILLON ...***  \n",
    "Coral reefs, the world's most diverse marine ecosystems, play a crucial role in providing resources and services benefiting millions of people. However, they have recently faced an escalation in thermal-stress events, leading to coral bleaching. The coral bleaching phenomenon results from the breakdown of the symbiotic relationship between corals and microalgae. It is caracterised by the loss of pigments and symbionts, causing corals to appear pale, bleached. Bleaching can be temporary or fatal for corals, but undoubtedly, marine heat waves pose the most significant threat to coral reefs on a global scale.\n",
    "\n",
    "The Global Coral-Bleaching Database (GCBD) compiles 34,846 coral bleaching records from 14,405 sites in 93 countries, from 1980–2020. The GCBD provides vital information on the presence or absence of coral bleaching along with site exposure, distance to land, mean turbidity, cyclone frequency, and a suite of sea-surface temperature metrics at the times of survey.\n",
    "\n",
    "The goal of this RAMP is to predict the percentage of bleached corals from environmental data, based on the data gathered in the GCBD."
   ]
  },
  {
   "cell_type": "markdown",
   "id": "f6ab16c9",
   "metadata": {},
   "source": [
    "## The dataset <a class=\"anchor\" id=\"dataset\"></a>\n",
    "The description of all the columns of the dataset is available from [A global coral-bleaching database, 1980–2020](https://doi.org/10.1038/s41597-022-01121-y).\n",
    "\n",
    "| ![dataset_structure.png](https://media.springernature.com/full/springer-static/image/art%3A10.1038%2Fs41597-022-01121-y/MediaObjects/41597_2022_1121_Fig3_HTML.png?as=webp) |\n",
    "|:--:|\n",
    "| <b>Schematic of the Global Coral Bleaching Database (GCBD) showing the relationships among the 20 tables.</b>|"
   ]
  },
  {
   "cell_type": "markdown",
   "id": "5554cc27",
   "metadata": {},
   "source": [
    "For this challenge, the data were first preprocessed and then split in order to preserve a private test set on which to evaluate the models on our servers. This leaves ***À COMPLÉTER*** observations in the public train set and ***À COMPLÉTER*** observations in the public test set. \n",
    "Observations are grouped by sites (with a Site_ID ***À VÉRIFIER*** each) and we are very cautious to keep those examples from the same site either in the train set or in the test set (both during splitting and cross-validation).\n",
    "\n",
    "Preprocessing steps before splitting the data:\n",
    "1.  ...\n",
    "2.  ...\n",
    "3.  ..."
   ]
  },
  {
   "cell_type": "markdown",
   "id": "35735d1f",
   "metadata": {},
   "source": [
    "## Requirements <a class=\"anchor\" id=\"requirements\"></a>\n",
    "### Librairies"
   ]
  },
  {
   "cell_type": "code",
   "execution_count": 1,
   "id": "ab42ee1d",
   "metadata": {},
   "outputs": [],
   "source": [
    "import pandas as pd\n",
    "import numpy as np\n",
    "import missingno as msno\n",
    "import matplotlib.pyplot as plt\n",
    "import seaborn as sns\n",
    "\n",
    "# ... À COMPLÉTER "
   ]
  },
  {
   "cell_type": "markdown",
   "id": "b2206d90",
   "metadata": {},
   "source": [
    "### Data"
   ]
  },
  {
   "cell_type": "code",
   "execution_count": null,
   "id": "1b7f0515",
   "metadata": {},
   "outputs": [],
   "source": [
    "# ... À COMPLÉTER "
   ]
  },
  {
   "cell_type": "markdown",
   "id": "1c271bb8",
   "metadata": {},
   "source": [
    "## Data Exploration <a class=\"anchor\" id=\"exploration\"></a>"
   ]
  },
  {
   "cell_type": "code",
   "execution_count": null,
   "id": "df26c0b7",
   "metadata": {},
   "outputs": [],
   "source": [
    "# ... À COMPLÉTER "
   ]
  },
  {
   "cell_type": "markdown",
   "id": "a5b609c9",
   "metadata": {},
   "source": [
    "## Base model <a class=\"anchor\" id=\"base_model\"></a>"
   ]
  },
  {
   "cell_type": "code",
   "execution_count": null,
   "id": "a30767b0",
   "metadata": {},
   "outputs": [],
   "source": [
    "# ... À COMPLÉTER "
   ]
  },
  {
   "cell_type": "markdown",
   "id": "2c4661b2",
   "metadata": {},
   "source": [
    "## Submitting to the online challenge: [ramp.studio](https://ramp.studio) <a class=\"anchor\" id=\"submitting\"></a>\n",
    "\n",
    "Once you found a good model, you can submit them to [ramp.studio](https://www.ramp.studio) to enter the online challenge. If it is your first time using the RAMP platform, [sign up](https://www.ramp.studio/sign_up), otherwise [log in](https://www.ramp.studio/login). Then sign up to the event ***À MODIFIER*** [Coral bleaching](http://www.ramp.studio/events/tephra_datacamp2023). Both signups are controled by RAMP administrators, so there **can be a delay between asking for signup and being able to submit**.\n",
    "\n",
    "Once your signup request is accepted, you can go to your [sandbox](https://www.ramp.studio/events/tephra_datacamp2023/sandbox) and copy-paste. You can also create a new folder `my_submission` in the `submissions` folder containing `classifier.py` and upload this file directly. You can check the starting-kit ([`classifier.py`](/edit/submissions/starting_kit/classifier.py)) for an example. The submission is trained and tested on our backend in the similar way as `ramp-test` does it locally. While your submission is waiting in the queue and being trained, you can find it in the \"New submissions (pending training)\" table in [my submissions](https://www.ramp.studio/events/tephra_datacamp2023/my_submissions). Once it is trained, your submission shows up on the [public leaderboard](https://www.ramp.studio/events/tephra_datacamp2023/leaderboard). \n",
    "If there is an error (despite having tested your submission locally with `ramp-test`), it will show up in the \"Failed submissions\" table in [my submissions](https://www.ramp.studio/events/tephra_datacamp2023/my_submissions). You can click on the error to see part of the trace.\n",
    "\n",
    "The data set we use at the backend is usually different from what you find in the starting kit, so the score may be different.\n",
    "\n",
    "The usual way to work with RAMP is to explore solutions, add feature transformations, select models, etc., _locally_, and checking them with `ramp-test`. The script prints mean cross-validation scores.\n",
    "\n",
    "The official score in this RAMP (the first score column on the [leaderboard](http://www.ramp.studio/events/tephra_datacamp2023/leaderboard) ***À METTRE À JOUR***) is the balenced accuracy score (`bal_acc`). When the score is good enough, you can submit it at the RAMP."
   ]
  },
  {
   "cell_type": "markdown",
   "id": "be405cd9",
   "metadata": {},
   "source": [
    "Here is the script proposed as the starting_kit:"
   ]
  },
  {
   "cell_type": "code",
   "execution_count": 2,
   "id": "5c8c1924",
   "metadata": {},
   "outputs": [],
   "source": [
    "# ... À COMPLÉTER avec notre exemple de classifieur/régresseur"
   ]
  },
  {
   "cell_type": "markdown",
   "id": "26996cd7",
   "metadata": {},
   "source": [
    "You can test your solution locally by running the ramp-test command followed by --submission <my_submission folder>.\n",
    "Here is an example with the starting_kit submission:"
   ]
  },
  {
   "cell_type": "code",
   "execution_count": null,
   "id": "684bdd7a",
   "metadata": {},
   "outputs": [],
   "source": [
    "!ramp-test --submission starting_kit"
   ]
  },
  {
   "cell_type": "markdown",
   "id": "7a75faee",
   "metadata": {},
   "source": [
    "## More information\n",
    "\n",
    "See the [online documentation](https://paris-saclay-cds.github.io/ramp-docs/ramp-workflow/stable/using_kits.html) for more details."
   ]
  },
  {
   "cell_type": "markdown",
   "id": "8de51b2c",
   "metadata": {},
   "source": [
    "## Questions\n",
    "\n",
    "Questions related to the starting kit should be asked on the [issue tracker](https://github.com/ramp-kits/tephra/issues)."
   ]
  }
 ],
 "metadata": {
  "kernelspec": {
   "display_name": "Python 3 (ipykernel)",
   "language": "python",
   "name": "python3"
  },
  "language_info": {
   "codemirror_mode": {
    "name": "ipython",
    "version": 3
   },
   "file_extension": ".py",
   "mimetype": "text/x-python",
   "name": "python",
   "nbconvert_exporter": "python",
   "pygments_lexer": "ipython3",
   "version": "3.10.12"
  }
 },
 "nbformat": 4,
 "nbformat_minor": 5
}
